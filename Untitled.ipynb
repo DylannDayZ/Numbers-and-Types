{
 "cells": [
  {
   "cell_type": "code",
   "execution_count": 1,
   "id": "f93ce905",
   "metadata": {},
   "outputs": [
    {
     "data": {
      "text/plain": [
       "3600"
      ]
     },
     "execution_count": 1,
     "metadata": {},
     "output_type": "execute_result"
    }
   ],
   "source": [
    "60 * 60\n"
   ]
  },
  {
   "cell_type": "code",
   "execution_count": 12,
   "id": "f7b0998c",
   "metadata": {},
   "outputs": [],
   "source": [
    "seconds_per_hour = 3600\n",
    "seconds_per_day = 3600\n"
   ]
  },
  {
   "cell_type": "code",
   "execution_count": 11,
   "id": "980ed1b3",
   "metadata": {},
   "outputs": [],
   "source": [
    "seconds_per_day = seconds_per_day * 24"
   ]
  },
  {
   "cell_type": "code",
   "execution_count": 4,
   "id": "e5780b89",
   "metadata": {},
   "outputs": [],
   "source": [
    "seconds_per_day / seconds_per_hour"
   ]
  },
  {
   "cell_type": "code",
   "execution_count": 5,
   "id": "1b902b9f",
   "metadata": {},
   "outputs": [],
   "source": [
    "seconds_per_day // seconds_per_hour"
   ]
  },
  {
   "cell_type": "code",
   "execution_count": null,
   "id": "6839f430",
   "metadata": {},
   "outputs": [],
   "source": []
  }
 ],
 "metadata": {
  "kernelspec": {
   "display_name": "Python 3 (ipykernel)",
   "language": "python",
   "name": "python3"
  },
  "language_info": {
   "codemirror_mode": {
    "name": "ipython",
    "version": 3
   },
   "file_extension": ".py",
   "mimetype": "text/x-python",
   "name": "python",
   "nbconvert_exporter": "python",
   "pygments_lexer": "ipython3",
   "version": "3.11.5"
  }
 },
 "nbformat": 4,
 "nbformat_minor": 5
}
